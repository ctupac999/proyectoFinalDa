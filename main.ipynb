{
 "cells": [
  {
   "cell_type": "code",
   "execution_count": 3,
   "metadata": {},
   "outputs": [],
   "source": [
    "import pandas as pd\n",
    "import seaborn as sns\n",
    "import matplotlib.pyplot as plt"
   ]
  },
  {
   "cell_type": "code",
   "execution_count": 4,
   "metadata": {},
   "outputs": [
    {
     "name": "stdout",
     "output_type": "stream",
     "text": [
      "           artist                    song  duration_ms  explicit  year  \\\n",
      "0  Britney Spears  Oops!...I Did It Again       211160     False  2000   \n",
      "1       blink-182    All The Small Things       167066     False  1999   \n",
      "2      Faith Hill                 Breathe       250546     False  1999   \n",
      "3        Bon Jovi            It's My Life       224493     False  2000   \n",
      "4          *NSYNC             Bye Bye Bye       200560     False  2000   \n",
      "\n",
      "   popularity  danceability  energy  key  loudness  mode  speechiness  \\\n",
      "0          77         0.751   0.834    1    -5.444     0       0.0437   \n",
      "1          79         0.434   0.897    0    -4.918     1       0.0488   \n",
      "2          66         0.529   0.496    7    -9.007     1       0.0290   \n",
      "3          78         0.551   0.913    0    -4.063     0       0.0466   \n",
      "4          65         0.614   0.928    8    -4.806     0       0.0516   \n",
      "\n",
      "   acousticness  instrumentalness  liveness  valence    tempo         genre  \n",
      "0        0.3000          0.000018    0.3550    0.894   95.053           pop  \n",
      "1        0.0103          0.000000    0.6120    0.684  148.726     rock, pop  \n",
      "2        0.1730          0.000000    0.2510    0.278  136.859  pop, country  \n",
      "3        0.0263          0.000013    0.3470    0.544  119.992   rock, metal  \n",
      "4        0.0408          0.001040    0.0845    0.879  172.656           pop  \n",
      "         duration_ms        year   popularity  danceability       energy  \\\n",
      "count    2000.000000  2000.00000  2000.000000   2000.000000  2000.000000   \n",
      "mean   228748.124500  2009.49400    59.872500      0.667438     0.720366   \n",
      "std     39136.569008     5.85996    21.335577      0.140416     0.152745   \n",
      "min    113000.000000  1998.00000     0.000000      0.129000     0.054900   \n",
      "25%    203580.000000  2004.00000    56.000000      0.581000     0.622000   \n",
      "50%    223279.500000  2010.00000    65.500000      0.676000     0.736000   \n",
      "75%    248133.000000  2015.00000    73.000000      0.764000     0.839000   \n",
      "max    484146.000000  2020.00000    89.000000      0.975000     0.999000   \n",
      "\n",
      "               key     loudness         mode  speechiness  acousticness  \\\n",
      "count  2000.000000  2000.000000  2000.000000  2000.000000   2000.000000   \n",
      "mean      5.378000    -5.512434     0.553500     0.103568      0.128955   \n",
      "std       3.615059     1.933482     0.497254     0.096159      0.173346   \n",
      "min       0.000000   -20.514000     0.000000     0.023200      0.000019   \n",
      "25%       2.000000    -6.490250     0.000000     0.039600      0.014000   \n",
      "50%       6.000000    -5.285000     1.000000     0.059850      0.055700   \n",
      "75%       8.000000    -4.167750     1.000000     0.129000      0.176250   \n",
      "max      11.000000    -0.276000     1.000000     0.576000      0.976000   \n",
      "\n",
      "       instrumentalness     liveness      valence        tempo  \n",
      "count       2000.000000  2000.000000  2000.000000  2000.000000  \n",
      "mean           0.015226     0.181216     0.551690   120.122558  \n",
      "std            0.087771     0.140669     0.220864    26.967112  \n",
      "min            0.000000     0.021500     0.038100    60.019000  \n",
      "25%            0.000000     0.088100     0.386750    98.985750  \n",
      "50%            0.000000     0.124000     0.557500   120.021500  \n",
      "75%            0.000068     0.241000     0.730000   134.265500  \n",
      "max            0.985000     0.853000     0.973000   210.851000  \n"
     ]
    }
   ],
   "source": [
    "\n",
    "# Carga del archivo\n",
    "df = pd.read_csv(\"./data/songs_normalize.csv\")\n",
    "\n",
    "# Mostrar primeras filas\n",
    "print(df.head())\n",
    "\n",
    "# Resumen estadístico\n",
    "print(df.describe())\n"
   ]
  },
  {
   "cell_type": "code",
   "execution_count": 5,
   "metadata": {},
   "outputs": [
    {
     "name": "stdout",
     "output_type": "stream",
     "text": [
      "           artist                    song  duration_ms  explicit  year  \\\n",
      "0  Britney Spears  Oops!...I Did It Again       211160     False  2000   \n",
      "1       blink-182    All The Small Things       167066     False  1999   \n",
      "2      Faith Hill                 Breathe       250546     False  1999   \n",
      "3        Bon Jovi            It's My Life       224493     False  2000   \n",
      "4          *NSYNC             Bye Bye Bye       200560     False  2000   \n",
      "\n",
      "   popularity  valence    tempo         genre  \n",
      "0          77    0.894   95.053           pop  \n",
      "1          79    0.684  148.726     rock, pop  \n",
      "2          66    0.278  136.859  pop, country  \n",
      "3          78    0.544  119.992   rock, metal  \n",
      "4          65    0.879  172.656           pop  \n"
     ]
    }
   ],
   "source": [
    "df = df.drop(columns=['danceability', 'energy', 'speechiness', 'key', 'mode', \n",
    "                      'loudness', 'instrumentalness', 'acousticness', 'liveness'])\n",
    "\n",
    "# Verificar las primeras filas del DataFrame limpio\n",
    "print(df.head())\n",
    "\n"
   ]
  },
  {
   "cell_type": "markdown",
   "metadata": {},
   "source": [
    "#### Limpieza de datos"
   ]
  },
  {
   "cell_type": "code",
   "execution_count": 6,
   "metadata": {},
   "outputs": [
    {
     "name": "stdout",
     "output_type": "stream",
     "text": [
      "artist         0\n",
      "song           0\n",
      "duration_ms    0\n",
      "explicit       0\n",
      "year           0\n",
      "popularity     0\n",
      "valence        0\n",
      "tempo          0\n",
      "genre          0\n",
      "dtype: int64\n"
     ]
    }
   ],
   "source": [
    "# Verificar valores nulos\n",
    "print(df.isnull().sum())\n"
   ]
  },
  {
   "cell_type": "code",
   "execution_count": 7,
   "metadata": {},
   "outputs": [],
   "source": [
    "#El resultado muestra que no hay valores nulos en ninguna columna. Esto significa que no es necesario imputar o eliminar registros debido a datos faltantes."
   ]
  },
  {
   "cell_type": "code",
   "execution_count": 8,
   "metadata": {},
   "outputs": [
    {
     "name": "stdout",
     "output_type": "stream",
     "text": [
      "59\n"
     ]
    }
   ],
   "source": [
    "# Contar duplicados\n",
    "print(df.duplicated().sum())\n"
   ]
  },
  {
   "cell_type": "code",
   "execution_count": 9,
   "metadata": {},
   "outputs": [],
   "source": [
    "# Dividir géneros en múltiples filas\n",
    "df = df.assign(genre=df['genre'].str.split(', ')).explode('genre')\n"
   ]
  },
  {
   "cell_type": "code",
   "execution_count": 10,
   "metadata": {},
   "outputs": [],
   "source": [
    "# Convertir a booleanos si es necesario\n",
    "df['explicit'] = df['explicit'].astype(bool)\n"
   ]
  },
  {
   "cell_type": "code",
   "execution_count": 11,
   "metadata": {},
   "outputs": [
    {
     "name": "stdout",
     "output_type": "stream",
     "text": [
      "count    3704.000000\n",
      "mean       59.669006\n",
      "std        21.036882\n",
      "min         0.000000\n",
      "25%        56.000000\n",
      "50%        65.000000\n",
      "75%        73.000000\n",
      "max        89.000000\n",
      "Name: popularity, dtype: float64\n"
     ]
    }
   ],
   "source": [
    "# Identificar valores extremos\n",
    "print(df['popularity'].describe())"
   ]
  },
  {
   "cell_type": "code",
   "execution_count": 12,
   "metadata": {},
   "outputs": [
    {
     "name": "stdout",
     "output_type": "stream",
     "text": [
      "0    77\n",
      "1    79\n",
      "1    79\n",
      "2    66\n",
      "2    66\n",
      "Name: popularity, dtype: int64\n"
     ]
    }
   ],
   "source": [
    "# Eliminar los decimales y convertir los valores en enteros\n",
    "df['popularity'] = df['popularity'].round().astype(int)\n",
    "\n",
    "# Reemplazar los valores 0 por 1\n",
    "df['popularity'] = df['popularity'].replace(0, 1)\n",
    "\n",
    "# Verificar el resultado\n",
    "print(df['popularity'].head())\n"
   ]
  },
  {
   "cell_type": "code",
   "execution_count": 13,
   "metadata": {},
   "outputs": [
    {
     "name": "stdout",
     "output_type": "stream",
     "text": [
      "count    3704.000000\n",
      "mean       59.730292\n",
      "std        20.863661\n",
      "min         1.000000\n",
      "25%        56.000000\n",
      "50%        65.000000\n",
      "75%        73.000000\n",
      "max        89.000000\n",
      "Name: popularity, dtype: float64\n"
     ]
    }
   ],
   "source": [
    "# Identificar valores extremos\n",
    "print(df['popularity'].describe())"
   ]
  },
  {
   "cell_type": "code",
   "execution_count": 14,
   "metadata": {},
   "outputs": [
    {
     "name": "stdout",
     "output_type": "stream",
     "text": [
      "count      3704.000000\n",
      "mean     229655.527538\n",
      "std       37580.557169\n",
      "min      113000.000000\n",
      "25%      205356.500000\n",
      "50%      224886.500000\n",
      "75%      249589.750000\n",
      "max      484146.000000\n",
      "Name: duration_ms, dtype: float64\n"
     ]
    }
   ],
   "source": [
    "# Identificar valores extremos\n",
    "print(df['duration_ms'].describe())\n"
   ]
  },
  {
   "cell_type": "code",
   "execution_count": 15,
   "metadata": {},
   "outputs": [],
   "source": [
    "    # Variables categóricas\n",
    "df['genre'] = df['genre'].astype('category')\n",
    "df['artist'] = df['artist'].astype('category')\n",
    "\n",
    "# Variables numéricas\n",
    "df['popularity'] = pd.to_numeric(df['popularity'], errors='coerce')\n"
   ]
  },
  {
   "cell_type": "code",
   "execution_count": 16,
   "metadata": {},
   "outputs": [
    {
     "name": "stdout",
     "output_type": "stream",
     "text": [
      "1778\n"
     ]
    }
   ],
   "source": [
    "# Validar unicidad\n",
    "print(df[['artist', 'song']].duplicated().sum())"
   ]
  },
  {
   "cell_type": "code",
   "execution_count": 17,
   "metadata": {},
   "outputs": [
    {
     "name": "stdout",
     "output_type": "stream",
     "text": [
      "           artist                song  duration_ms  explicit  year  \\\n",
      "24      Melanie C       I Turn To You       352173     False  1999   \n",
      "24      Melanie C       I Turn To You       352173     False  1999   \n",
      "25    Limp Bizkit  Take A Look Around       321040     False  2000   \n",
      "28         Moloko     The Time Is Now       318280     False  2000   \n",
      "28         Moloko     The Time Is Now       318280     False  2000   \n",
      "...           ...                 ...          ...       ...   ...   \n",
      "1939    Lil Nas X              Panini       114893     False  2019   \n",
      "1939    Lil Nas X              Panini       114893     False  2019   \n",
      "1966     Blueface            Thotiana       129264      True  2018   \n",
      "1987    iann dior           gone girl       136568      True  2019   \n",
      "1987    iann dior           gone girl       136568      True  2019   \n",
      "\n",
      "      popularity  valence    tempo             genre  \n",
      "24            54   0.0783  135.205               pop  \n",
      "24            54   0.0783  135.205  Dance/Electronic  \n",
      "25            72   0.5120  101.968             metal  \n",
      "28            54   0.5460  127.962               pop  \n",
      "28            54   0.5460  127.962  Dance/Electronic  \n",
      "...          ...      ...      ...               ...  \n",
      "1939          71   0.4750  153.848           hip hop  \n",
      "1939          71   0.4750  153.848               pop  \n",
      "1966           1   0.3910  104.025           hip hop  \n",
      "1987          69   0.3550   94.956           hip hop  \n",
      "1987          69   0.3550   94.956               pop  \n",
      "\n",
      "[117 rows x 9 columns]\n"
     ]
    }
   ],
   "source": [
    "# Detectar outliers en duration_ms\n",
    "q1 = df['duration_ms'].quantile(0.25)\n",
    "q3 = df['duration_ms'].quantile(0.75)\n",
    "iqr = q3 - q1\n",
    "lower_bound = q1 - 1.5 * iqr\n",
    "upper_bound = q3 + 1.5 * iqr\n",
    "\n",
    "# Filtrar outliers\n",
    "outliers = df[(df['duration_ms'] < lower_bound) | (df['duration_ms'] > upper_bound)]\n",
    "print(outliers)\n"
   ]
  },
  {
   "cell_type": "code",
   "execution_count": 18,
   "metadata": {},
   "outputs": [
    {
     "name": "stdout",
     "output_type": "stream",
     "text": [
      "Registros después de eliminar duplicados: 3588\n"
     ]
    }
   ],
   "source": [
    "# Eliminar duplicados\n",
    "df = df.drop_duplicates()\n",
    "print(f\"Registros después de eliminar duplicados: {len(df)}\")\n"
   ]
  },
  {
   "cell_type": "code",
   "execution_count": 19,
   "metadata": {},
   "outputs": [
    {
     "name": "stdout",
     "output_type": "stream",
     "text": [
      "genre\n",
      "pop                  1582\n",
      "hip hop               751\n",
      "R&B                   437\n",
      "Dance/Electronic      380\n",
      "rock                  225\n",
      "metal                  64\n",
      "latin                  63\n",
      "set()                  22\n",
      "country                20\n",
      "Folk/Acoustic          20\n",
      "World/Traditional      10\n",
      "easy listening          7\n",
      "blues                   4\n",
      "jazz                    2\n",
      "classical               1\n",
      "Name: count, dtype: int64\n"
     ]
    }
   ],
   "source": [
    "# Dividir géneros en múltiples filas\n",
    "df = df.assign(genre=df['genre'].str.split(', ')).explode('genre')\n",
    "\n",
    "# Verificar los géneros únicos\n",
    "print(df['genre'].value_counts())"
   ]
  },
  {
   "cell_type": "code",
   "execution_count": 20,
   "metadata": {},
   "outputs": [
    {
     "name": "stderr",
     "output_type": "stream",
     "text": [
      "/tmp/ipykernel_29119/3810404158.py:11: UserWarning: FigureCanvasAgg is non-interactive, and thus cannot be shown\n",
      "  plt.show()\n"
     ]
    }
   ],
   "source": [
    "\n",
    "\n",
    "# Seleccionar las columnas numéricas relevantes para el análisis\n",
    "numerical_columns = ['popularity', 'duration_ms', 'valence', 'tempo']\n",
    "\n",
    "# Calcular la matriz de correlación\n",
    "correlation_matrix = df[numerical_columns].corr()\n",
    "\n",
    "# Crear el mapa de calor\n",
    "plt.figure(figsize=(10, 8))\n",
    "sns.heatmap(correlation_matrix, annot=True, cmap='coolwarm', fmt=\".2f\", vmin=-1, vmax=1)\n",
    "plt.title('Matriz de Correlación entre Variables')\n",
    "plt.show()\n"
   ]
  },
  {
   "cell_type": "code",
   "execution_count": 21,
   "metadata": {},
   "outputs": [],
   "source": [
    "# Guardar la columna original\n",
    "df['genre_original'] = df['genre']\n",
    "\n",
    "# Crear dummies sin perder el género original\n",
    "df = pd.get_dummies(df, columns=['genre'], prefix='genre', drop_first=True)\n",
    "\n",
    "# Renombrar la columna 'genre_original' a 'genre'\n",
    "df = df.rename(columns={'genre_original': 'genre'})"
   ]
  },
  {
   "cell_type": "code",
   "execution_count": 22,
   "metadata": {},
   "outputs": [],
   "source": [
    "genre_popularity = df.groupby('genre')['popularity'].mean().sort_values()\n",
    "genre_mapping = {genre: idx for idx, genre in enumerate(genre_popularity.index)}\n",
    "df['genre_ordinal'] = df['genre'].map(genre_mapping)\n"
   ]
  },
  {
   "cell_type": "code",
   "execution_count": 23,
   "metadata": {},
   "outputs": [
    {
     "name": "stdout",
     "output_type": "stream",
     "text": [
      "Index(['artist', 'song', 'duration_ms', 'explicit', 'year', 'popularity',\n",
      "       'valence', 'tempo', 'genre', 'genre_Folk/Acoustic', 'genre_R&B',\n",
      "       'genre_World/Traditional', 'genre_blues', 'genre_classical',\n",
      "       'genre_country', 'genre_easy listening', 'genre_hip hop', 'genre_jazz',\n",
      "       'genre_latin', 'genre_metal', 'genre_pop', 'genre_rock', 'genre_set()',\n",
      "       'genre_ordinal'],\n",
      "      dtype='object')\n"
     ]
    }
   ],
   "source": [
    "print(df.columns)"
   ]
  },
  {
   "cell_type": "code",
   "execution_count": 24,
   "metadata": {},
   "outputs": [
    {
     "name": "stdout",
     "output_type": "stream",
     "text": [
      "Cantidad de registros: 3588\n",
      "\n",
      "Estadísticas descriptivas actualizadas:\n",
      "count      3588.000000\n",
      "mean     229522.870401\n",
      "std       37681.055847\n",
      "min      113000.000000\n",
      "25%      205109.000000\n",
      "50%      224673.000000\n",
      "75%      249533.000000\n",
      "max      484146.000000\n",
      "Name: duration_ms, dtype: float64\n",
      "\n",
      "Duplicados en el dataset: 0\n",
      "\n",
      "Primeras 5 filas del dataset limpio:\n",
      "           artist                    song  duration_ms  explicit  year  \\\n",
      "0  Britney Spears  Oops!...I Did It Again       211160     False  2000   \n",
      "1       blink-182    All The Small Things       167066     False  1999   \n",
      "1       blink-182    All The Small Things       167066     False  1999   \n",
      "2      Faith Hill                 Breathe       250546     False  1999   \n",
      "2      Faith Hill                 Breathe       250546     False  1999   \n",
      "\n",
      "   popularity  valence    tempo    genre  genre_Folk/Acoustic  ...  \\\n",
      "0          77    0.894   95.053      pop                False  ...   \n",
      "1          79    0.684  148.726     rock                False  ...   \n",
      "1          79    0.684  148.726      pop                False  ...   \n",
      "2          66    0.278  136.859      pop                False  ...   \n",
      "2          66    0.278  136.859  country                False  ...   \n",
      "\n",
      "   genre_country  genre_easy listening  genre_hip hop  genre_jazz  \\\n",
      "0          False                 False          False       False   \n",
      "1          False                 False          False       False   \n",
      "1          False                 False          False       False   \n",
      "2          False                 False          False       False   \n",
      "2           True                 False          False       False   \n",
      "\n",
      "   genre_latin  genre_metal  genre_pop  genre_rock  genre_set()  genre_ordinal  \n",
      "0        False        False       True       False        False              8  \n",
      "1        False        False      False        True        False             12  \n",
      "1        False        False       True       False        False              8  \n",
      "2        False        False       True       False        False              8  \n",
      "2        False        False      False       False        False              3  \n",
      "\n",
      "[5 rows x 24 columns]\n"
     ]
    }
   ],
   "source": [
    "# Tamaño actual del dataset\n",
    "print(f\"Cantidad de registros: {df.shape[0]}\")\n",
    "\n",
    "# Estadísticas descriptivas para confirmar ajustes\n",
    "print(\"\\nEstadísticas descriptivas actualizadas:\")\n",
    "print(df['duration_ms'].describe())\n",
    "\n",
    "# Verificar si quedan duplicados\n",
    "duplicates = df.duplicated().sum()\n",
    "print(f\"\\nDuplicados en el dataset: {duplicates}\")\n",
    "\n",
    "# Inspeccionar un pequeño subconjunto del dataset\n",
    "print(\"\\nPrimeras 5 filas del dataset limpio:\")\n",
    "print(df.head())\n"
   ]
  },
  {
   "cell_type": "code",
   "execution_count": 25,
   "metadata": {},
   "outputs": [
    {
     "name": "stdout",
     "output_type": "stream",
     "text": [
      "artist\n",
      "Tom Odell             88.0\n",
      "The Neighbourhood     87.0\n",
      "WILLOW                86.0\n",
      "Lewis Capaldi         84.0\n",
      "Gesaffelstein         84.0\n",
      "                      ... \n",
      "Basement Jaxx          1.0\n",
      "BLACKPINK              1.0\n",
      "Azealia Banks          1.0\n",
      "Axwell /\\ Ingrosso     1.0\n",
      "Kungs                  1.0\n",
      "Name: popularity, Length: 835, dtype: float64\n"
     ]
    },
    {
     "name": "stderr",
     "output_type": "stream",
     "text": [
      "/tmp/ipykernel_29119/636545051.py:1: FutureWarning: The default of observed=False is deprecated and will be changed to True in a future version of pandas. Pass observed=False to retain current behavior or observed=True to adopt the future default and silence this warning.\n",
      "  print (df.groupby('artist')['popularity'].mean().sort_values(ascending=False))\n"
     ]
    }
   ],
   "source": [
    "print (df.groupby('artist')['popularity'].mean().sort_values(ascending=False))"
   ]
  },
  {
   "cell_type": "code",
   "execution_count": 26,
   "metadata": {},
   "outputs": [
    {
     "name": "stdout",
     "output_type": "stream",
     "text": [
      "           artist  popularity\n",
      "0  Britney Spears          77\n",
      "1       blink-182          79\n",
      "1       blink-182          79\n",
      "2      Faith Hill          66\n",
      "2      Faith Hill          66\n"
     ]
    }
   ],
   "source": [
    "# Reemplazar los valores de 'popularity' que son 0 por 0.1\n",
    "df['popularity'] = df['popularity'].replace(0, 0.00001)\n",
    "\n",
    "# Verificar los primeros registros para confirmar el cambio\n",
    "print(df[['artist', 'popularity']].head())\n"
   ]
  },
  {
   "cell_type": "code",
   "execution_count": 27,
   "metadata": {},
   "outputs": [
    {
     "name": "stdout",
     "output_type": "stream",
     "text": [
      "artist\n",
      "Tom Odell             88.0\n",
      "The Neighbourhood     87.0\n",
      "WILLOW                86.0\n",
      "Lewis Capaldi         84.0\n",
      "Gesaffelstein         84.0\n",
      "                      ... \n",
      "Basement Jaxx          1.0\n",
      "BLACKPINK              1.0\n",
      "Azealia Banks          1.0\n",
      "Axwell /\\ Ingrosso     1.0\n",
      "Kungs                  1.0\n",
      "Name: popularity, Length: 835, dtype: float64\n"
     ]
    },
    {
     "name": "stderr",
     "output_type": "stream",
     "text": [
      "/tmp/ipykernel_29119/636545051.py:1: FutureWarning: The default of observed=False is deprecated and will be changed to True in a future version of pandas. Pass observed=False to retain current behavior or observed=True to adopt the future default and silence this warning.\n",
      "  print (df.groupby('artist')['popularity'].mean().sort_values(ascending=False))\n"
     ]
    }
   ],
   "source": [
    "print (df.groupby('artist')['popularity'].mean().sort_values(ascending=False))"
   ]
  },
  {
   "cell_type": "code",
   "execution_count": 28,
   "metadata": {},
   "outputs": [],
   "source": [
    "# Eliminar las filas donde el año es 2020\n",
    "df = df[df['year'] != 2020]"
   ]
  },
  {
   "cell_type": "code",
   "execution_count": 29,
   "metadata": {},
   "outputs": [
    {
     "name": "stdout",
     "output_type": "stream",
     "text": [
      "Cantidad de registros: 3583\n",
      "\n",
      "Estadísticas descriptivas actualizadas:\n",
      "count      3583.000000\n",
      "mean     229538.968741\n",
      "std       37698.159836\n",
      "min      113000.000000\n",
      "25%      205160.000000\n",
      "50%      224693.000000\n",
      "75%      249533.000000\n",
      "max      484146.000000\n",
      "Name: duration_ms, dtype: float64\n",
      "\n",
      "Duplicados en el dataset: 0\n",
      "\n",
      "Primeras 5 filas del dataset limpio:\n",
      "           artist                    song  duration_ms  explicit  year  \\\n",
      "0  Britney Spears  Oops!...I Did It Again       211160     False  2000   \n",
      "1       blink-182    All The Small Things       167066     False  1999   \n",
      "1       blink-182    All The Small Things       167066     False  1999   \n",
      "2      Faith Hill                 Breathe       250546     False  1999   \n",
      "2      Faith Hill                 Breathe       250546     False  1999   \n",
      "\n",
      "   popularity  valence    tempo    genre  genre_Folk/Acoustic  ...  \\\n",
      "0          77    0.894   95.053      pop                False  ...   \n",
      "1          79    0.684  148.726     rock                False  ...   \n",
      "1          79    0.684  148.726      pop                False  ...   \n",
      "2          66    0.278  136.859      pop                False  ...   \n",
      "2          66    0.278  136.859  country                False  ...   \n",
      "\n",
      "   genre_country  genre_easy listening  genre_hip hop  genre_jazz  \\\n",
      "0          False                 False          False       False   \n",
      "1          False                 False          False       False   \n",
      "1          False                 False          False       False   \n",
      "2          False                 False          False       False   \n",
      "2           True                 False          False       False   \n",
      "\n",
      "   genre_latin  genre_metal  genre_pop  genre_rock  genre_set()  genre_ordinal  \n",
      "0        False        False       True       False        False              8  \n",
      "1        False        False      False        True        False             12  \n",
      "1        False        False       True       False        False              8  \n",
      "2        False        False       True       False        False              8  \n",
      "2        False        False      False       False        False              3  \n",
      "\n",
      "[5 rows x 24 columns]\n"
     ]
    }
   ],
   "source": [
    "# Tamaño actual del dataset\n",
    "print(f\"Cantidad de registros: {df.shape[0]}\")\n",
    "\n",
    "# Estadísticas descriptivas para confirmar ajustes\n",
    "print(\"\\nEstadísticas descriptivas actualizadas:\")\n",
    "print(df['duration_ms'].describe())\n",
    "\n",
    "# Verificar si quedan duplicados\n",
    "duplicates = df.duplicated().sum()\n",
    "print(f\"\\nDuplicados en el dataset: {duplicates}\")\n",
    "\n",
    "# Inspeccionar un pequeño subconjunto del dataset\n",
    "print(\"\\nPrimeras 5 filas del dataset limpio:\")\n",
    "print(df.head())"
   ]
  },
  {
   "cell_type": "code",
   "execution_count": 30,
   "metadata": {},
   "outputs": [
    {
     "name": "stdout",
     "output_type": "stream",
     "text": [
      "           artist                    song  duration_ms  explicit  year  \\\n",
      "0  Britney Spears  Oops!...I Did It Again       211160     False  2000   \n",
      "1       blink-182    All The Small Things       167066     False  1999   \n",
      "1       blink-182    All The Small Things       167066     False  1999   \n",
      "2      Faith Hill                 Breathe       250546     False  1999   \n",
      "2      Faith Hill                 Breathe       250546     False  1999   \n",
      "\n",
      "   popularity  valence    tempo    genre  genre_Folk/Acoustic  ...  \\\n",
      "0          77    0.894   95.053      pop                False  ...   \n",
      "1          79    0.684  148.726     rock                False  ...   \n",
      "1          79    0.684  148.726      pop                False  ...   \n",
      "2          66    0.278  136.859      pop                False  ...   \n",
      "2          66    0.278  136.859  country                False  ...   \n",
      "\n",
      "   genre_country  genre_easy listening  genre_hip hop  genre_jazz  \\\n",
      "0          False                 False          False       False   \n",
      "1          False                 False          False       False   \n",
      "1          False                 False          False       False   \n",
      "2          False                 False          False       False   \n",
      "2           True                 False          False       False   \n",
      "\n",
      "   genre_latin  genre_metal  genre_pop  genre_rock  genre_set()  genre_ordinal  \n",
      "0        False        False       True       False        False              8  \n",
      "1        False        False      False        True        False             12  \n",
      "1        False        False       True       False        False              8  \n",
      "2        False        False       True       False        False              8  \n",
      "2        False        False      False       False        False              3  \n",
      "\n",
      "[5 rows x 24 columns]\n"
     ]
    }
   ],
   "source": [
    "print(df.head())"
   ]
  },
  {
   "cell_type": "code",
   "execution_count": 31,
   "metadata": {},
   "outputs": [],
   "source": [
    "# Guardar el DataFrame limpio en un archivo CSV\n",
    "df.to_csv('./data//archivo_limpio.csv', index=False)\n"
   ]
  },
  {
   "cell_type": "markdown",
   "metadata": {},
   "source": [
    "## Paso 1: Tendencias de géneros populares a través del tiempo\n",
    "\n",
    "    Identificar cómo ha cambiado la popularidad de los géneros a lo largo de los años.\n",
    "    Crear gráficos que muestren las tendencias de popularidad por género.\n",
    "\n",
    "## Paso 2: Artistas más populares\n",
    "\n",
    "    Determinar los artistas más escuchados en general y por año.\n",
    "    Analizar si los artistas más populares están asociados a géneros específicos.\n",
    "\n",
    "## Paso 3: Relación entre géneros y duración ajustada\n",
    "\n",
    "    Ver si la duración promedio de canciones varía según el género.\n",
    "    Identificar si géneros específicos tienen canciones más populares.\n",
    "\n",
    "## Paso 4: Visualización y resumen para consultoras\n",
    "\n",
    "    Preparar gráficos e insights clave para ayudar a tomar decisiones relacionadas con la organización de festivales."
   ]
  },
  {
   "cell_type": "markdown",
   "metadata": {},
   "source": [
    "#### 1. Análisis de tendencias de géneros populares a través del tiempo"
   ]
  },
  {
   "cell_type": "code",
   "execution_count": 32,
   "metadata": {},
   "outputs": [
    {
     "name": "stderr",
     "output_type": "stream",
     "text": [
      "/tmp/ipykernel_29119/116753976.py:28: UserWarning: FigureCanvasAgg is non-interactive, and thus cannot be shown\n",
      "  plt.show()\n"
     ]
    }
   ],
   "source": [
    "# Agrupar por año y género, y calcular la popularidad promedio\n",
    "genre_trends = df.groupby(['year', 'genre'])['popularity'].mean().reset_index()\n",
    "\n",
    "# Configurar el gráfico\n",
    "plt.figure(figsize=(12, 8))\n",
    "sns.lineplot(\n",
    "    data=genre_trends,\n",
    "    x='year',\n",
    "    y='popularity',\n",
    "    hue='genre',\n",
    "    marker='o',\n",
    "    palette='tab10'\n",
    ")\n",
    "\n",
    "# Personalizar el gráfico\n",
    "plt.title(\"Tendencias de Popularidad por Género a lo Largo del Tiempo\", fontsize=16)\n",
    "plt.xlabel(\"Año\", fontsize=12)\n",
    "plt.ylabel(\"Popularidad Promedio (1 a 100)\", fontsize=12)\n",
    "plt.legend(title=\"Género\", bbox_to_anchor=(1.05, 1), loc='upper left')\n",
    "plt.grid(alpha=0.3)\n",
    "\n",
    "# Ajustar el rango del eje Y\n",
    "plt.ylim(0, 100)\n",
    "\n",
    "plt.tight_layout()\n",
    "\n",
    "# Mostrar el gráfico\n",
    "plt.show()\n",
    "\n"
   ]
  },
  {
   "cell_type": "code",
   "execution_count": 33,
   "metadata": {},
   "outputs": [
    {
     "name": "stderr",
     "output_type": "stream",
     "text": [
      "/tmp/ipykernel_29119/573610296.py:57: UserWarning: FigureCanvasAgg is non-interactive, and thus cannot be shown\n",
      "  plt.show()\n"
     ]
    }
   ],
   "source": [
    "import matplotlib.pyplot as plt\n",
    "\n",
    "# 1. Filtrar los géneros sobresalientes\n",
    "genres_outstanding = ['pop', 'hip hop']\n",
    "df_outstanding = genre_trends.loc[genre_trends['genre'].isin(genres_outstanding)]\n",
    "\n",
    "# 2. Filtrar los géneros con fluctuaciones marcadas\n",
    "genres_fluctuating = ['Folk/Acoustic', 'easy listening']\n",
    "df_fluctuating = genre_trends.loc[genre_trends['genre'].isin(genres_fluctuating)]\n",
    "\n",
    "# 3. Filtrar los géneros con estabilidad relativa\n",
    "genres_stable = ['rock', 'R&B']\n",
    "df_stable = genre_trends.loc[genre_trends['genre'].isin(genres_stable)]\n",
    "\n",
    "# Crear subplots para las diferentes categorías\n",
    "fig, axs = plt.subplots(2, 2, figsize=(16, 12))\n",
    "\n",
    "# 1. Géneros sobresalientes\n",
    "for genre in genres_outstanding:\n",
    "    genre_data = df_outstanding[df_outstanding['genre'] == genre]\n",
    "    axs[0, 0].plot(genre_data['year'], genre_data['popularity'], marker='o', label=genre)\n",
    "axs[0, 0].set_title(\"Tendencias de Géneros Sobresalientes (pop, hip hop)\")\n",
    "axs[0, 0].set_xlabel(\"Año\")\n",
    "axs[0, 0].set_ylabel(\"Popularidad Promedio\")\n",
    "axs[0, 0].legend()\n",
    "\n",
    "# 2. Fluctuaciones marcadas\n",
    "for genre in genres_fluctuating:\n",
    "    genre_data = df_fluctuating[df_fluctuating['genre'] == genre]\n",
    "    axs[0, 1].plot(genre_data['year'], genre_data['popularity'], marker='o', label=genre)\n",
    "axs[0, 1].set_title(\"Tendencias con Fluctuaciones Marcadas (Folk/Acoustic, Easy Listening)\")\n",
    "axs[0, 1].set_xlabel(\"Año\")\n",
    "axs[0, 1].set_ylabel(\"Popularidad Promedio\")\n",
    "axs[0, 1].legend()\n",
    "\n",
    "# 3. Estabilidad relativa\n",
    "for genre in genres_stable:\n",
    "    genre_data = df_stable[df_stable['genre'] == genre]\n",
    "    axs[1, 0].plot(genre_data['year'], genre_data['popularity'], marker='o', label=genre)\n",
    "axs[1, 0].set_title(\"Tendencias con Estabilidad Relativa (rock, R&B)\")\n",
    "axs[1, 0].set_xlabel(\"Año\")\n",
    "axs[1, 0].set_ylabel(\"Popularidad Promedio\")\n",
    "axs[1, 0].legend()\n",
    "\n",
    "# 4. Años críticos\n",
    "for genre in genre_trends['genre'].unique():\n",
    "    genre_data = genre_trends[genre_trends['genre'] == genre]\n",
    "    axs[1, 1].plot(genre_data['year'], genre_data['popularity'], marker='o', label=genre, alpha=0.5)\n",
    "axs[1, 1].axvline(2005, color='red', linestyle='--', label='Año Crítico: 2005')\n",
    "axs[1, 1].axvline(2015, color='purple', linestyle='--', label='Año Crítico: 2015')\n",
    "axs[1, 1].set_title(\"Tendencias Generales Destacando Años Críticos\")\n",
    "axs[1, 1].set_xlabel(\"Año\")\n",
    "axs[1, 1].set_ylabel(\"Popularidad Promedio\")\n",
    "axs[1, 1].legend()\n",
    "\n",
    "plt.tight_layout()\n",
    "plt.show()\n"
   ]
  },
  {
   "cell_type": "code",
   "execution_count": 34,
   "metadata": {},
   "outputs": [],
   "source": [
    "# Filtrar los últimos 3 años (por ejemplo, 2017, 2018, 2019)\n",
    "df_last_3_years = df[df['year'] >= 2019]\n",
    "# Filtrar los últimos 10 años \n",
    "df_last_10_years = df[df['year'] >= 2009]\n",
    "# Filtrar los datos para el último año\n",
    "df_last_year = df[df['year'] == 2019]\n"
   ]
  },
  {
   "cell_type": "code",
   "execution_count": 35,
   "metadata": {},
   "outputs": [
    {
     "name": "stdout",
     "output_type": "stream",
     "text": [
      "Top 10 géneros más populares del último año (2019)\n",
      "genre\n",
      "latin               74.750000\n",
      "country             69.000000\n",
      "hip hop             65.210526\n",
      "Dance/Electronic    63.666667\n",
      "pop                 61.126984\n",
      "set()               57.000000\n",
      "R&B                 54.666667\n",
      "metal               32.500000\n",
      "rock                32.500000\n",
      "Name: popularity, dtype: float64\n"
     ]
    }
   ],
   "source": [
    "# Calcular la popularidad promedio por género para el último año\n",
    "top_10_genres_last_year = (\n",
    "    df_last_year.groupby('genre')['popularity']\n",
    "    .mean()\n",
    "    .sort_values(ascending=False)\n",
    "    .head(10)  # Obtener los 10 géneros más populares\n",
    ")\n",
    "\n",
    "# Imprimir los 10 géneros más populares del último año\n",
    "print(f\"Top 10 géneros más populares del último año (2019)\")\n",
    "print(top_10_genres_last_year)\n"
   ]
  },
  {
   "cell_type": "code",
   "execution_count": 36,
   "metadata": {},
   "outputs": [
    {
     "name": "stdout",
     "output_type": "stream",
     "text": [
      "genre\n",
      "latin               74.750000\n",
      "country             69.000000\n",
      "hip hop             65.210526\n",
      "Dance/Electronic    63.666667\n",
      "pop                 61.126984\n",
      "set()               57.000000\n",
      "R&B                 54.666667\n",
      "metal               32.500000\n",
      "rock                32.500000\n",
      "Name: popularity, dtype: float64\n"
     ]
    }
   ],
   "source": [
    "\n",
    "# Calcular la popularidad promedio por género para estos años\n",
    "top_10_genres_last_3_years = (\n",
    "    df_last_3_years.groupby('genre')['popularity']\n",
    "    .mean()\n",
    "    .sort_values(ascending=False)\n",
    "    .head(10)\n",
    ")\n",
    "\n",
    "print(top_10_genres_last_3_years)"
   ]
  },
  {
   "cell_type": "code",
   "execution_count": 37,
   "metadata": {},
   "outputs": [
    {
     "name": "stderr",
     "output_type": "stream",
     "text": [
      "/tmp/ipykernel_29119/3358088047.py:9: UserWarning: FigureCanvasAgg is non-interactive, and thus cannot be shown\n",
      "  plt.show()\n"
     ]
    }
   ],
   "source": [
    "# Visualización\n",
    "plt.figure(figsize=(18, 6))\n",
    "top_10_genres_last_3_years.plot(kind='bar', color='orange')\n",
    "plt.title('Top 10 generos ulitmos 3 años (Promedio de Popularidad)', fontsize=16)\n",
    "plt.xlabel('Genero', fontsize=12)\n",
    "plt.ylabel('Popularidad Promedio', fontsize=12)\n",
    "plt.xticks(rotation=45, ha='right')\n",
    "plt.tight_layout()\n",
    "plt.show()"
   ]
  },
  {
   "cell_type": "code",
   "execution_count": 38,
   "metadata": {},
   "outputs": [
    {
     "name": "stdout",
     "output_type": "stream",
     "text": [
      "genre\n",
      "Folk/Acoustic     65.571429\n",
      "easy listening    65.000000\n",
      "classical         63.000000\n",
      "hip hop           62.639151\n",
      "latin             61.975610\n",
      "set()             61.333333\n",
      "rock              60.715909\n",
      "pop               59.351502\n",
      "metal             59.000000\n",
      "R&B               58.446667\n",
      "Name: popularity, dtype: float64\n"
     ]
    }
   ],
   "source": [
    "\n",
    "# Calcular la popularidad promedio por género para estos años\n",
    "top_10_genres_last_10_years = (\n",
    "    df_last_10_years.groupby('genre')['popularity']\n",
    "    .mean()\n",
    "    .sort_values(ascending=False)\n",
    "    .head(10)\n",
    ")\n",
    "\n",
    "print(top_10_genres_last_10_years)"
   ]
  },
  {
   "cell_type": "code",
   "execution_count": 39,
   "metadata": {},
   "outputs": [
    {
     "name": "stderr",
     "output_type": "stream",
     "text": [
      "/tmp/ipykernel_29119/810248585.py:9: UserWarning: FigureCanvasAgg is non-interactive, and thus cannot be shown\n",
      "  plt.show()\n"
     ]
    }
   ],
   "source": [
    "# Visualización\n",
    "plt.figure(figsize=(18, 6))\n",
    "top_10_genres_last_10_years.plot(kind='bar', color='orange')\n",
    "plt.title('Top 10 generos ulitmos 10 años (Promedio de Popularidad)', fontsize=16)\n",
    "plt.xlabel('Genero', fontsize=12)\n",
    "plt.ylabel('Popularidad Promedio', fontsize=12)\n",
    "plt.xticks(rotation=45, ha='right')\n",
    "plt.tight_layout()\n",
    "plt.show()"
   ]
  },
  {
   "cell_type": "markdown",
   "metadata": {},
   "source": [
    "## Paso 2: Artistas más populares"
   ]
  },
  {
   "cell_type": "code",
   "execution_count": 40,
   "metadata": {},
   "outputs": [
    {
     "name": "stderr",
     "output_type": "stream",
     "text": [
      "/tmp/ipykernel_29119/3619203289.py:2: FutureWarning: The default of observed=False is deprecated and will be changed to True in a future version of pandas. Pass observed=False to retain current behavior or observed=True to adopt the future default and silence this warning.\n",
      "  top_artists_general = df.groupby('artist')['popularity'].mean().sort_values(ascending=False).head(30)\n",
      "/tmp/ipykernel_29119/3619203289.py:12: UserWarning: FigureCanvasAgg is non-interactive, and thus cannot be shown\n",
      "  plt.show()\n"
     ]
    }
   ],
   "source": [
    "# Artistas más populares en general (promedio de popularidad)\n",
    "top_artists_general = df.groupby('artist')['popularity'].mean().sort_values(ascending=False).head(30)\n",
    "\n",
    "# Visualización\n",
    "plt.figure(figsize=(18, 6))\n",
    "top_artists_general.plot(kind='bar', color='orange')\n",
    "plt.title('Top 10 Artistas Más Populares (Promedio de Popularidad)', fontsize=16)\n",
    "plt.xlabel('Artista', fontsize=12)\n",
    "plt.ylabel('Popularidad Promedio', fontsize=12)\n",
    "plt.xticks(rotation=45, ha='right')\n",
    "plt.tight_layout()\n",
    "plt.show()\n",
    "\n"
   ]
  },
  {
   "cell_type": "code",
   "execution_count": 41,
   "metadata": {},
   "outputs": [
    {
     "name": "stdout",
     "output_type": "stream",
     "text": [
      "artist\n",
      "Lewis Capaldi         84.0\n",
      "Gesaffelstein         84.0\n",
      "Regard                81.0\n",
      "Bad Bunny             81.0\n",
      "Tyler, The Creator    80.0\n",
      "J. Cole               80.0\n",
      "Lana Del Rey          80.0\n",
      "Dua Lipa              79.0\n",
      "Daddy Yankee          79.0\n",
      "Billie Eilish         79.0\n",
      "Name: popularity, dtype: float64\n"
     ]
    },
    {
     "name": "stderr",
     "output_type": "stream",
     "text": [
      "/tmp/ipykernel_29119/1594692580.py:2: FutureWarning: The default of observed=False is deprecated and will be changed to True in a future version of pandas. Pass observed=False to retain current behavior or observed=True to adopt the future default and silence this warning.\n",
      "  top_10_artist_last_3_years = df_last_3_years.groupby('artist')['popularity'].mean().sort_values(ascending=False).head(10)\n"
     ]
    }
   ],
   "source": [
    "\n",
    "# Calcular la popularidad promedio por artista para estos años\n",
    "top_10_artist_last_3_years = df_last_3_years.groupby('artist')['popularity'].mean().sort_values(ascending=False).head(10)\n",
    "top_10_artist_last_3_years_clean = top_10_artist_last_3_years.dropna()\n",
    "print(top_10_artist_last_3_years_clean)\n"
   ]
  },
  {
   "cell_type": "code",
   "execution_count": 42,
   "metadata": {},
   "outputs": [
    {
     "name": "stderr",
     "output_type": "stream",
     "text": [
      "/tmp/ipykernel_29119/3318492046.py:9: UserWarning: FigureCanvasAgg is non-interactive, and thus cannot be shown\n",
      "  plt.show()\n"
     ]
    }
   ],
   "source": [
    "# Visualización\n",
    "plt.figure(figsize=(18, 6))\n",
    "top_10_artist_last_3_years_clean.plot(kind='bar', color='orange')\n",
    "plt.title('Top 10 artistas ulitmos 3 años (Promedio de Popularidad)', fontsize=16)\n",
    "plt.xlabel('Artista', fontsize=12)\n",
    "plt.ylabel('Popularidad Promedio', fontsize=12)\n",
    "plt.xticks(rotation=45, ha='right')\n",
    "plt.tight_layout()\n",
    "plt.show()"
   ]
  },
  {
   "cell_type": "code",
   "execution_count": 43,
   "metadata": {},
   "outputs": [
    {
     "name": "stdout",
     "output_type": "stream",
     "text": [
      "artist\n",
      "Tom Odell            88.0\n",
      "The Neighbourhood    87.0\n",
      "WILLOW               86.0\n",
      "Gesaffelstein        84.0\n",
      "Lewis Capaldi        84.0\n",
      "                     ... \n",
      "The Lumineers         1.0\n",
      "CNCO                  1.0\n",
      "NSG                   NaN\n",
      "Will Smith            NaN\n",
      "t.A.T.u.              NaN\n",
      "Name: popularity, Length: 835, dtype: float64\n"
     ]
    },
    {
     "name": "stderr",
     "output_type": "stream",
     "text": [
      "/tmp/ipykernel_29119/1866364638.py:1: FutureWarning: The default of observed=False is deprecated and will be changed to True in a future version of pandas. Pass observed=False to retain current behavior or observed=True to adopt the future default and silence this warning.\n",
      "  print (df.groupby('artist')['popularity'].mean().sort_values(ascending=False)\n"
     ]
    }
   ],
   "source": [
    "print (df.groupby('artist')['popularity'].mean().sort_values(ascending=False)\n",
    "       )"
   ]
  },
  {
   "cell_type": "code",
   "execution_count": 44,
   "metadata": {},
   "outputs": [
    {
     "name": "stdout",
     "output_type": "stream",
     "text": [
      "artist\n",
      "Tom Odell            88.0\n",
      "The Neighbourhood    87.0\n",
      "WILLOW               86.0\n",
      "Arctic Monkeys       84.0\n",
      "John Legend          84.0\n",
      "Lewis Capaldi        84.0\n",
      "Gesaffelstein        84.0\n",
      "Tame Impala          83.0\n",
      "Foster The People    82.0\n",
      "Alec Benjamin        82.0\n",
      "Name: popularity, dtype: float64\n"
     ]
    },
    {
     "name": "stderr",
     "output_type": "stream",
     "text": [
      "/tmp/ipykernel_29119/2296927961.py:2: FutureWarning: The default of observed=False is deprecated and will be changed to True in a future version of pandas. Pass observed=False to retain current behavior or observed=True to adopt the future default and silence this warning.\n",
      "  top_10_last_10_years = df_last_10_years.groupby('artist')['popularity'].mean().sort_values(ascending=False).head(10)\n"
     ]
    }
   ],
   "source": [
    "\n",
    "# Calcular la popularidad promedio por artista para estos años\n",
    "top_10_last_10_years = df_last_10_years.groupby('artist')['popularity'].mean().sort_values(ascending=False).head(10)\n",
    "top_10_last_10_years_clean = top_10_last_10_years.dropna()\n",
    "\n",
    "# Mostrar el resultado\n",
    "print(top_10_last_10_years_clean)\n",
    "\n"
   ]
  },
  {
   "cell_type": "code",
   "execution_count": 45,
   "metadata": {},
   "outputs": [
    {
     "name": "stderr",
     "output_type": "stream",
     "text": [
      "/tmp/ipykernel_29119/1991666340.py:9: UserWarning: FigureCanvasAgg is non-interactive, and thus cannot be shown\n",
      "  plt.show()\n"
     ]
    }
   ],
   "source": [
    "# Visualización\n",
    "plt.figure(figsize=(18, 6))\n",
    "top_10_last_10_years_clean.plot(kind='bar', color='orange')\n",
    "plt.title('Top 10 artistas ulitmos 10 años (Promedio de Popularidad)', fontsize=16)\n",
    "plt.xlabel('Artista', fontsize=12)\n",
    "plt.ylabel('Popularidad Promedio', fontsize=12)\n",
    "plt.xticks(rotation=45, ha='right')\n",
    "plt.tight_layout()\n",
    "plt.show()"
   ]
  },
  {
   "cell_type": "code",
   "execution_count": 46,
   "metadata": {},
   "outputs": [
    {
     "name": "stdout",
     "output_type": "stream",
     "text": [
      "Género más popular de los últimos 3 años: latin\n",
      "artist\n",
      "Bad Bunny       81.0\n",
      "Daddy Yankee    79.0\n",
      "Anuel AA        75.5\n",
      "Nicky Jam       74.0\n",
      "Paulo Londra    72.0\n",
      "Name: popularity, dtype: float64\n"
     ]
    },
    {
     "name": "stderr",
     "output_type": "stream",
     "text": [
      "/tmp/ipykernel_29119/2233084919.py:16: FutureWarning: The default of observed=False is deprecated and will be changed to True in a future version of pandas. Pass observed=False to retain current behavior or observed=True to adopt the future default and silence this warning.\n",
      "  top_5_artists_genre = df_genre_artists.groupby('artist')['popularity'].mean().sort_values(ascending=False).head(5)\n"
     ]
    }
   ],
   "source": [
    "\n",
    "# Calcular la popularidad promedio por género para estos años\n",
    "top_10_genres_last_3_years = (\n",
    "    df_last_3_years.groupby('genre')['popularity']\n",
    "    .mean()\n",
    "    .sort_values(ascending=False)\n",
    "    .head(1)  # Obtener el género más popular\n",
    ")\n",
    "\n",
    "# Obtener el género más popular\n",
    "most_popular_genre = top_10_genres_last_3_years.index[0]\n",
    "\n",
    "# Filtrar los datos para el género más popular\n",
    "df_genre_artists = df_last_3_years[df_last_3_years['genre'] == most_popular_genre]\n",
    "\n",
    "# Calcular la popularidad promedio de los artistas dentro de ese género\n",
    "top_5_artists_genre = df_genre_artists.groupby('artist')['popularity'].mean().sort_values(ascending=False).head(5)\n",
    "\n",
    "# Reemplazar los NaN por 1 si no hay artistas puntuados en popularidad dentro de ese género\n",
    "top_5_artists_genre = top_5_artists_genre.fillna(1)\n",
    "\n",
    "# Imprimir el género más popular y los 10 artistas más escuchados\n",
    "print(f\"Género más popular de los últimos 3 años: {most_popular_genre}\")\n",
    "print(top_5_artists_genre)\n",
    "\n",
    "\n"
   ]
  },
  {
   "cell_type": "code",
   "execution_count": 47,
   "metadata": {},
   "outputs": [
    {
     "name": "stderr",
     "output_type": "stream",
     "text": [
      "/tmp/ipykernel_29119/426182519.py:9: UserWarning: FigureCanvasAgg is non-interactive, and thus cannot be shown\n",
      "  plt.show()\n"
     ]
    }
   ],
   "source": [
    "# Visualización\n",
    "plt.figure(figsize=(18, 6))\n",
    "top_5_artists_genre.plot(kind='bar', color='orange')\n",
    "plt.title('Top 5 artistas latin ulitmos 3 años (Promedio de Popularidad)', fontsize=16)\n",
    "plt.xlabel('Artista', fontsize=12)\n",
    "plt.ylabel('Popularidad Promedio', fontsize=12)\n",
    "plt.xticks(rotation=45, ha='right')\n",
    "plt.tight_layout()\n",
    "plt.show()"
   ]
  },
  {
   "cell_type": "code",
   "execution_count": 48,
   "metadata": {},
   "outputs": [
    {
     "name": "stdout",
     "output_type": "stream",
     "text": [
      "Género más popular del último año (2019): latin\n",
      "artist\n",
      "Bad Bunny       81.0\n",
      "Daddy Yankee    79.0\n",
      "Anuel AA        75.5\n",
      "Nicky Jam       74.0\n",
      "Paulo Londra    72.0\n",
      "Name: popularity, dtype: float64\n"
     ]
    },
    {
     "name": "stderr",
     "output_type": "stream",
     "text": [
      "/tmp/ipykernel_29119/1660778830.py:23: FutureWarning: The default of observed=False is deprecated and will be changed to True in a future version of pandas. Pass observed=False to retain current behavior or observed=True to adopt the future default and silence this warning.\n",
      "  df_genre_artists_last_year.groupby('artist')['popularity']\n"
     ]
    }
   ],
   "source": [
    "# Obtener el último año del DataFrame\n",
    "last_year = df['year'].max()\n",
    "\n",
    "# Filtrar los datos para el último año\n",
    "df_last_year = df[df['year'] == last_year]\n",
    "\n",
    "# Calcular la popularidad promedio por género para el último año\n",
    "top_genres_last_year = (\n",
    "    df_last_year.groupby('genre')['popularity']\n",
    "    .mean()\n",
    "    .sort_values(ascending=False)\n",
    "    .head(1)  # Obtener el género más popular\n",
    ")\n",
    "\n",
    "# Obtener el género más popular del último año\n",
    "most_popular_genre_last_year = top_genres_last_year.index[0]\n",
    "\n",
    "# Filtrar los datos para el género más popular del último año\n",
    "df_genre_artists_last_year = df_last_year[df_last_year['genre'] == most_popular_genre_last_year]\n",
    "\n",
    "# Calcular la popularidad promedio de los artistas dentro de ese género para el último año\n",
    "top_5_artists_genre_last_year = (\n",
    "    df_genre_artists_last_year.groupby('artist')['popularity']\n",
    "    .mean()\n",
    "    .sort_values(ascending=False)\n",
    "    .head(5)\n",
    ")\n",
    "\n",
    "# Reemplazar los NaN por 1 si no hay artistas puntuados en popularidad dentro de ese género\n",
    "top_5_artists_genre_last_year = top_5_artists_genre_last_year.fillna(1)\n",
    "\n",
    "# Imprimir el género más popular y los 5 artistas más escuchados\n",
    "print(f\"Género más popular del último año ({last_year}): {most_popular_genre_last_year}\")\n",
    "print(top_5_artists_genre_last_year)\n"
   ]
  },
  {
   "cell_type": "code",
   "execution_count": 49,
   "metadata": {},
   "outputs": [
    {
     "name": "stderr",
     "output_type": "stream",
     "text": [
      "/tmp/ipykernel_29119/467387098.py:9: UserWarning: FigureCanvasAgg is non-interactive, and thus cannot be shown\n",
      "  plt.show()\n"
     ]
    }
   ],
   "source": [
    "# Visualización\n",
    "plt.figure(figsize=(18, 6))\n",
    "top_5_artists_genre_last_year.plot(kind='bar', color='orange')\n",
    "plt.title('Top 5 artistas latin ultimo año (Promedio de Popularidad)', fontsize=16)\n",
    "plt.xlabel('Artista', fontsize=12)\n",
    "plt.ylabel('Popularidad Promedio', fontsize=12)\n",
    "plt.xticks(rotation=45, ha='right')\n",
    "plt.tight_layout()\n",
    "plt.show()"
   ]
  },
  {
   "cell_type": "code",
   "execution_count": 50,
   "metadata": {},
   "outputs": [
    {
     "name": "stderr",
     "output_type": "stream",
     "text": [
      "/tmp/ipykernel_29119/878518398.py:5: FutureWarning: The default of observed=False is deprecated and will be changed to True in a future version of pandas. Pass observed=False to retain current behavior or observed=True to adopt the future default and silence this warning.\n",
      "  top_10_artists_2019 = df_last_20_years[df_last_20_years['year'] == 2019].groupby('artist')['popularity'].mean().sort_values(ascending=False).head(10).index\n",
      "/tmp/ipykernel_29119/878518398.py:27: UserWarning: FigureCanvasAgg is non-interactive, and thus cannot be shown\n",
      "  plt.show()\n"
     ]
    }
   ],
   "source": [
    "# Filtrar los datos para los últimos 20 años (hasta 2019)\n",
    "df_last_20_years = df[df['year'] >= 2000]  # Puedes ajustar si es necesario\n",
    "\n",
    "# Obtener los 10 artistas más populares según el último año (2019)\n",
    "top_10_artists_2019 = df_last_20_years[df_last_20_years['year'] == 2019].groupby('artist')['popularity'].mean().sort_values(ascending=False).head(10).index\n",
    "\n",
    "# Filtrar los datos para los artistas más populares de 2019\n",
    "df_top_10_artists = df_last_20_years[df_last_20_years['artist'].isin(top_10_artists_2019)]\n",
    "\n",
    "# Configurar el gráfico\n",
    "plt.figure(figsize=(14, 8))\n",
    "\n",
    "# Graficar la evolución de la popularidad de los 10 artistas más populares de 2019\n",
    "for artist in top_10_artists_2019:\n",
    "    artist_data = df_top_10_artists[df_top_10_artists['artist'] == artist]\n",
    "    plt.plot(artist_data['year'], artist_data['popularity'], marker='o', label=artist, alpha=0.7)\n",
    "\n",
    "# Personalizar el gráfico\n",
    "plt.title(\"Evolución de la Popularidad de los 10 Artistas Más Populares en 2019 (Últimos 20 Años)\", fontsize=16)\n",
    "plt.xlabel(\"Año\", fontsize=12)\n",
    "plt.ylabel(\"Popularidad Promedio\", fontsize=12)\n",
    "plt.legend(title=\"Artistas\", bbox_to_anchor=(1.05, 1), loc='upper left')\n",
    "plt.grid(alpha=0.3)\n",
    "\n",
    "# Ajustar el diseño y mostrar el gráfico\n",
    "plt.tight_layout()\n",
    "plt.show()"
   ]
  }
 ],
 "metadata": {
  "kernelspec": {
   "display_name": "base",
   "language": "python",
   "name": "python3"
  },
  "language_info": {
   "codemirror_mode": {
    "name": "ipython",
    "version": 3
   },
   "file_extension": ".py",
   "mimetype": "text/x-python",
   "name": "python",
   "nbconvert_exporter": "python",
   "pygments_lexer": "ipython3",
   "version": "3.12.4"
  }
 },
 "nbformat": 4,
 "nbformat_minor": 2
}
